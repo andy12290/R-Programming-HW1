{
 "cells": [
  {
   "cell_type": "markdown",
   "metadata": {},
   "source": [
    "- Name: Aniket Kale\n",
    "- Assignment-3\n",
    "- R programming Class"
   ]
  },
  {
   "cell_type": "markdown",
   "metadata": {},
   "source": [
    "# 1"
   ]
  },
  {
   "cell_type": "markdown",
   "metadata": {},
   "source": [
    "- Consider the following two vectors on 11 different dogs being offered treats and counting.\n",
    "- how many times they wag their tail in response"
   ]
  },
  {
   "cell_type": "code",
   "execution_count": 1,
   "metadata": {
    "collapsed": false
   },
   "outputs": [
    {
     "name": "stdout",
     "output_type": "stream",
     "text": [
      " [1]  0  1  2  3  4  5  6  7  8  9 10\n"
     ]
    }
   ],
   "source": [
    "# Lets define the vector\n",
    "\n",
    "Dog_biscuits <- c(0,1,2,3,4,5,6,7,8,9,10) \n",
    "\n",
    "Tail_wags <- c(0,0,1,3,8,13,14,12,15,16,14)\n",
    "\n",
    "# Print the vectors\n",
    "print(Dog_biscuits)"
   ]
  },
  {
   "cell_type": "code",
   "execution_count": 2,
   "metadata": {
    "collapsed": false
   },
   "outputs": [
    {
     "data": {
      "text/html": [
       "<ol class=list-inline>\n",
       "\t<li>0</li>\n",
       "\t<li>0</li>\n",
       "\t<li>1</li>\n",
       "\t<li>3</li>\n",
       "\t<li>8</li>\n",
       "\t<li>13</li>\n",
       "\t<li>14</li>\n",
       "\t<li>12</li>\n",
       "\t<li>15</li>\n",
       "\t<li>16</li>\n",
       "\t<li>14</li>\n",
       "</ol>\n"
      ],
      "text/latex": [
       "\\begin{enumerate*}\n",
       "\\item 0\n",
       "\\item 0\n",
       "\\item 1\n",
       "\\item 3\n",
       "\\item 8\n",
       "\\item 13\n",
       "\\item 14\n",
       "\\item 12\n",
       "\\item 15\n",
       "\\item 16\n",
       "\\item 14\n",
       "\\end{enumerate*}\n"
      ],
      "text/markdown": [
       "1. 0\n",
       "2. 0\n",
       "3. 1\n",
       "4. 3\n",
       "5. 8\n",
       "6. 13\n",
       "7. 14\n",
       "8. 12\n",
       "9. 15\n",
       "10. 16\n",
       "11. 14\n",
       "\n",
       "\n"
      ],
      "text/plain": [
       " [1]  0  0  1  3  8 13 14 12 15 16 14"
      ]
     },
     "metadata": {},
     "output_type": "display_data"
    }
   ],
   "source": [
    "# Print the Tail_wags\n",
    "Tail_wags"
   ]
  },
  {
   "cell_type": "code",
   "execution_count": 3,
   "metadata": {
    "collapsed": false
   },
   "outputs": [],
   "source": [
    "# write functions\n",
    "summary_stat <- function(vector){\n",
    "    sum_vect <- sum(vector)\n",
    "    len_vect <- length(vector)\n",
    "    mean_vect <- sum_vect / len_vect\n",
    "    print(paste(\"This is Mean for given vector: \", round(mean_vect,3)))\n",
    "    # Lets calculate the Median of vector\n",
    "    median_vect <- median(vector)\n",
    "    print(paste(\"This is Median of the vector: \", round(median_vect,3)))\n",
    "    # Lets calculate the SD of vector\n",
    "    std_vect <- sd(vector)\n",
    "    print(paste(\"This is standard deviation of the vector: \", round(std_vect,3)))\n",
    "}"
   ]
  },
  {
   "cell_type": "code",
   "execution_count": 4,
   "metadata": {
    "collapsed": false
   },
   "outputs": [
    {
     "name": "stdout",
     "output_type": "stream",
     "text": [
      "[1] \"This is Mean for given vector:  5\"\n",
      "[1] \"This is Median of the vector:  5\"\n",
      "[1] \"This is standard deviation of the vector:  3.317\"\n"
     ]
    }
   ],
   "source": [
    "# Lets caluclate the summary stat\n",
    "summary_stat(Dog_biscuits)"
   ]
  },
  {
   "cell_type": "code",
   "execution_count": 5,
   "metadata": {
    "collapsed": false
   },
   "outputs": [
    {
     "name": "stdout",
     "output_type": "stream",
     "text": [
      "[1] \"This is Mean for given vector:  8.727\"\n",
      "[1] \"This is Median of the vector:  12\"\n",
      "[1] \"This is standard deviation of the vector:  6.498\"\n"
     ]
    }
   ],
   "source": [
    "# Lets caluclate the summary stat\n",
    "summary_stat(Tail_wags)"
   ]
  },
  {
   "cell_type": "code",
   "execution_count": 6,
   "metadata": {
    "collapsed": true
   },
   "outputs": [],
   "source": [
    "# Conclusion: I have used the existing functions in R to calculate the summarystat of any vector."
   ]
  },
  {
   "cell_type": "markdown",
   "metadata": {},
   "source": [
    "# Another Method trying to used the Programming skills to calculate the mean, median, sd"
   ]
  },
  {
   "cell_type": "markdown",
   "metadata": {},
   "source": [
    "# 2 Working With the functions without the Using R internal functions."
   ]
  },
  {
   "cell_type": "code",
   "execution_count": 7,
   "metadata": {
    "collapsed": false
   },
   "outputs": [],
   "source": [
    "# summary of the function\n",
    "\n",
    "sum_vect <- function(vect){\n",
    "    sum <- 0\n",
    "    len <- length(vect)\n",
    "    for (row in 1:(len)){\n",
    "        sum <- sum + vect[row]\n",
    "        \n",
    "    }\n",
    " mean_vect <- (sum/len)\n",
    " print(paste(\"This is mean of vector: \", mean_vect)) \n",
    "    \n",
    "# calculate the standard deviation\n",
    "    std_vect <- sqrt(sum((vect-mean(vect))^2/(length(vect)-1)))\n",
    "    print(paste(\"This is Standard Deviation of Vector:\", round(std_vect,3)))\n",
    "    \n",
    "# calculate the Median:\n",
    "  median_vect <- median(vect)\n",
    "  print(paste(\"This is Median of the vector: \", round(median_vect,3)))  \n",
    "    \n",
    "}"
   ]
  },
  {
   "cell_type": "code",
   "execution_count": 8,
   "metadata": {
    "collapsed": false
   },
   "outputs": [
    {
     "name": "stdout",
     "output_type": "stream",
     "text": [
      "[1] \"This is mean of vector:  8.72727272727273\"\n",
      "[1] \"This is Standard Deviation of Vector: 6.498\"\n",
      "[1] \"This is Median of the vector:  12\"\n"
     ]
    }
   ],
   "source": [
    "sum_vect(Tail_wags)"
   ]
  },
  {
   "cell_type": "code",
   "execution_count": 9,
   "metadata": {
    "collapsed": false
   },
   "outputs": [
    {
     "name": "stdout",
     "output_type": "stream",
     "text": [
      "[1] \"This is mean of vector:  5\"\n",
      "[1] \"This is Standard Deviation of Vector: 3.317\"\n",
      "[1] \"This is Median of the vector:  5\"\n"
     ]
    }
   ],
   "source": [
    "sum_vect(Dog_biscuits)"
   ]
  }
 ],
 "metadata": {
  "anaconda-cloud": {},
  "kernelspec": {
   "display_name": "R",
   "language": "R",
   "name": "ir"
  },
  "language_info": {
   "codemirror_mode": "r",
   "file_extension": ".r",
   "mimetype": "text/x-r-source",
   "name": "R",
   "pygments_lexer": "r",
   "version": "3.4.1"
  }
 },
 "nbformat": 4,
 "nbformat_minor": 0
}
