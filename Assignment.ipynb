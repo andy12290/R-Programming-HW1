{
 "cells": [
  {
   "cell_type": "markdown",
   "metadata": {
    "collapsed": true
   },
   "source": [
    "* Name: Aniket Kale\n",
    "* Class: R Programming\n",
    "* Home Work 1"
   ]
  },
  {
   "cell_type": "markdown",
   "metadata": {},
   "source": [
    "# Problem 1: Use R as a calculator to compute the following values.  "
   ]
  },
  {
   "cell_type": "code",
   "execution_count": 1,
   "metadata": {
    "collapsed": false
   },
   "outputs": [
    {
     "data": {
      "text/html": [
       "567"
      ],
      "text/latex": [
       "567"
      ],
      "text/markdown": [
       "567"
      ],
      "text/plain": [
       "[1] 567"
      ]
     },
     "metadata": {},
     "output_type": "display_data"
    }
   ],
   "source": [
    "# 1 Problem number 1\n",
    "a <- (38-17)*27\n",
    "a"
   ]
  },
  {
   "cell_type": "code",
   "execution_count": 2,
   "metadata": {
    "collapsed": false
   },
   "outputs": [
    {
     "data": {
      "text/html": [
       "18.4734013073068"
      ],
      "text/latex": [
       "18.4734013073068"
      ],
      "text/markdown": [
       "18.4734013073068"
      ],
      "text/plain": [
       "[1] 18.4734"
      ]
     },
     "metadata": {},
     "output_type": "display_data"
    }
   ],
   "source": [
    "# 2 Problem number 2\n",
    "a <- 14**7\n",
    "log(a)"
   ]
  },
  {
   "cell_type": "code",
   "execution_count": 3,
   "metadata": {
    "collapsed": false
   },
   "outputs": [
    {
     "data": {
      "text/html": [
       "6.02771377334171"
      ],
      "text/latex": [
       "6.02771377334171"
      ],
      "text/markdown": [
       "6.02771377334171"
      ],
      "text/plain": [
       "[1] 6.027714"
      ]
     },
     "metadata": {},
     "output_type": "display_data"
    }
   ],
   "source": [
    "# 3 Problem number 3\n",
    "a <- 436/12\n",
    "sqrt(a)"
   ]
  },
  {
   "cell_type": "markdown",
   "metadata": {},
   "source": [
    "# Create the following vectors in R."
   ]
  },
  {
   "cell_type": "code",
   "execution_count": 4,
   "metadata": {
    "collapsed": false
   },
   "outputs": [
    {
     "name": "stdout",
     "output_type": "stream",
     "text": [
      " [1]   5  10  15  20  25  30  35  40  45  50  55  60  65  70  75  80  85  90  95\n",
      "[20] 100 105 110 115 120 125 130 135 140 145 150 155 160\n"
     ]
    }
   ],
   "source": [
    "# 1\n",
    "a <- c(seq(5,160,5))\n",
    "print(a)"
   ]
  },
  {
   "cell_type": "code",
   "execution_count": 5,
   "metadata": {
    "collapsed": false
   },
   "outputs": [
    {
     "data": {
      "text/html": [
       "<ol class=list-inline>\n",
       "\t<li>87</li>\n",
       "\t<li>86</li>\n",
       "\t<li>85</li>\n",
       "\t<li>84</li>\n",
       "\t<li>83</li>\n",
       "\t<li>82</li>\n",
       "\t<li>81</li>\n",
       "\t<li>80</li>\n",
       "\t<li>79</li>\n",
       "\t<li>78</li>\n",
       "\t<li>77</li>\n",
       "\t<li>76</li>\n",
       "\t<li>75</li>\n",
       "\t<li>74</li>\n",
       "\t<li>73</li>\n",
       "\t<li>72</li>\n",
       "\t<li>71</li>\n",
       "\t<li>70</li>\n",
       "\t<li>69</li>\n",
       "\t<li>68</li>\n",
       "\t<li>67</li>\n",
       "\t<li>66</li>\n",
       "\t<li>65</li>\n",
       "\t<li>64</li>\n",
       "\t<li>63</li>\n",
       "\t<li>62</li>\n",
       "\t<li>61</li>\n",
       "\t<li>60</li>\n",
       "\t<li>59</li>\n",
       "\t<li>58</li>\n",
       "\t<li>57</li>\n",
       "\t<li>56</li>\n",
       "</ol>\n"
      ],
      "text/latex": [
       "\\begin{enumerate*}\n",
       "\\item 87\n",
       "\\item 86\n",
       "\\item 85\n",
       "\\item 84\n",
       "\\item 83\n",
       "\\item 82\n",
       "\\item 81\n",
       "\\item 80\n",
       "\\item 79\n",
       "\\item 78\n",
       "\\item 77\n",
       "\\item 76\n",
       "\\item 75\n",
       "\\item 74\n",
       "\\item 73\n",
       "\\item 72\n",
       "\\item 71\n",
       "\\item 70\n",
       "\\item 69\n",
       "\\item 68\n",
       "\\item 67\n",
       "\\item 66\n",
       "\\item 65\n",
       "\\item 64\n",
       "\\item 63\n",
       "\\item 62\n",
       "\\item 61\n",
       "\\item 60\n",
       "\\item 59\n",
       "\\item 58\n",
       "\\item 57\n",
       "\\item 56\n",
       "\\end{enumerate*}\n"
      ],
      "text/markdown": [
       "1. 87\n",
       "2. 86\n",
       "3. 85\n",
       "4. 84\n",
       "5. 83\n",
       "6. 82\n",
       "7. 81\n",
       "8. 80\n",
       "9. 79\n",
       "10. 78\n",
       "11. 77\n",
       "12. 76\n",
       "13. 75\n",
       "14. 74\n",
       "15. 73\n",
       "16. 72\n",
       "17. 71\n",
       "18. 70\n",
       "19. 69\n",
       "20. 68\n",
       "21. 67\n",
       "22. 66\n",
       "23. 65\n",
       "24. 64\n",
       "25. 63\n",
       "26. 62\n",
       "27. 61\n",
       "28. 60\n",
       "29. 59\n",
       "30. 58\n",
       "31. 57\n",
       "32. 56\n",
       "\n",
       "\n"
      ],
      "text/plain": [
       " [1] 87 86 85 84 83 82 81 80 79 78 77 76 75 74 73 72 71 70 69 68 67 66 65 64 63\n",
       "[26] 62 61 60 59 58 57 56"
      ]
     },
     "metadata": {},
     "output_type": "display_data"
    }
   ],
   "source": [
    "# 2\n",
    "b <- seq(87,56,-1)\n",
    "b"
   ]
  },
  {
   "cell_type": "code",
   "execution_count": 6,
   "metadata": {
    "collapsed": false
   },
   "outputs": [
    {
     "data": {
      "text/html": [
       "95"
      ],
      "text/latex": [
       "95"
      ],
      "text/markdown": [
       "95"
      ],
      "text/plain": [
       "[1] 95"
      ]
     },
     "metadata": {},
     "output_type": "display_data"
    }
   ],
   "source": [
    "a[19]"
   ]
  },
  {
   "cell_type": "markdown",
   "metadata": {},
   "source": [
    "# Use vector arithmetic to multiply these vectors and call the result d.Select subsets of d to identify the following"
   ]
  },
  {
   "cell_type": "code",
   "execution_count": 7,
   "metadata": {
    "collapsed": false
   },
   "outputs": [
    {
     "data": {
      "text/html": [
       "<ol class=list-inline>\n",
       "\t<li>435</li>\n",
       "\t<li>860</li>\n",
       "\t<li>1275</li>\n",
       "\t<li>1680</li>\n",
       "\t<li>2075</li>\n",
       "\t<li>2460</li>\n",
       "\t<li>2835</li>\n",
       "\t<li>3200</li>\n",
       "\t<li>3555</li>\n",
       "\t<li>3900</li>\n",
       "\t<li>4235</li>\n",
       "\t<li>4560</li>\n",
       "\t<li>4875</li>\n",
       "\t<li>5180</li>\n",
       "\t<li>5475</li>\n",
       "\t<li>5760</li>\n",
       "\t<li>6035</li>\n",
       "\t<li>6300</li>\n",
       "\t<li>6555</li>\n",
       "\t<li>6800</li>\n",
       "\t<li>7035</li>\n",
       "\t<li>7260</li>\n",
       "\t<li>7475</li>\n",
       "\t<li>7680</li>\n",
       "\t<li>7875</li>\n",
       "\t<li>8060</li>\n",
       "\t<li>8235</li>\n",
       "\t<li>8400</li>\n",
       "\t<li>8555</li>\n",
       "\t<li>8700</li>\n",
       "\t<li>8835</li>\n",
       "\t<li>8960</li>\n",
       "</ol>\n"
      ],
      "text/latex": [
       "\\begin{enumerate*}\n",
       "\\item 435\n",
       "\\item 860\n",
       "\\item 1275\n",
       "\\item 1680\n",
       "\\item 2075\n",
       "\\item 2460\n",
       "\\item 2835\n",
       "\\item 3200\n",
       "\\item 3555\n",
       "\\item 3900\n",
       "\\item 4235\n",
       "\\item 4560\n",
       "\\item 4875\n",
       "\\item 5180\n",
       "\\item 5475\n",
       "\\item 5760\n",
       "\\item 6035\n",
       "\\item 6300\n",
       "\\item 6555\n",
       "\\item 6800\n",
       "\\item 7035\n",
       "\\item 7260\n",
       "\\item 7475\n",
       "\\item 7680\n",
       "\\item 7875\n",
       "\\item 8060\n",
       "\\item 8235\n",
       "\\item 8400\n",
       "\\item 8555\n",
       "\\item 8700\n",
       "\\item 8835\n",
       "\\item 8960\n",
       "\\end{enumerate*}\n"
      ],
      "text/markdown": [
       "1. 435\n",
       "2. 860\n",
       "3. 1275\n",
       "4. 1680\n",
       "5. 2075\n",
       "6. 2460\n",
       "7. 2835\n",
       "8. 3200\n",
       "9. 3555\n",
       "10. 3900\n",
       "11. 4235\n",
       "12. 4560\n",
       "13. 4875\n",
       "14. 5180\n",
       "15. 5475\n",
       "16. 5760\n",
       "17. 6035\n",
       "18. 6300\n",
       "19. 6555\n",
       "20. 6800\n",
       "21. 7035\n",
       "22. 7260\n",
       "23. 7475\n",
       "24. 7680\n",
       "25. 7875\n",
       "26. 8060\n",
       "27. 8235\n",
       "28. 8400\n",
       "29. 8555\n",
       "30. 8700\n",
       "31. 8835\n",
       "32. 8960\n",
       "\n",
       "\n"
      ],
      "text/plain": [
       " [1]  435  860 1275 1680 2075 2460 2835 3200 3555 3900 4235 4560 4875 5180 5475\n",
       "[16] 5760 6035 6300 6555 6800 7035 7260 7475 7680 7875 8060 8235 8400 8555 8700\n",
       "[31] 8835 8960"
      ]
     },
     "metadata": {},
     "output_type": "display_data"
    }
   ],
   "source": [
    "# we will multiply the a and b\n",
    "d <- a*b \n",
    "d"
   ]
  },
  {
   "cell_type": "code",
   "execution_count": 8,
   "metadata": {
    "collapsed": false
   },
   "outputs": [
    {
     "data": {
      "text/html": [
       "6555"
      ],
      "text/latex": [
       "6555"
      ],
      "text/markdown": [
       "6555"
      ],
      "text/plain": [
       "[1] 6555"
      ]
     },
     "metadata": {},
     "output_type": "display_data"
    }
   ],
   "source": [
    "# What are the 19th, 20th, and 21st elements of d?\n",
    "d[19]"
   ]
  },
  {
   "cell_type": "code",
   "execution_count": 9,
   "metadata": {
    "collapsed": false
   },
   "outputs": [
    {
     "data": {
      "text/html": [
       "6800"
      ],
      "text/latex": [
       "6800"
      ],
      "text/markdown": [
       "6800"
      ],
      "text/plain": [
       "[1] 6800"
      ]
     },
     "metadata": {},
     "output_type": "display_data"
    }
   ],
   "source": [
    "d[20]"
   ]
  },
  {
   "cell_type": "code",
   "execution_count": 10,
   "metadata": {
    "collapsed": false
   },
   "outputs": [
    {
     "data": {
      "text/html": [
       "7035"
      ],
      "text/latex": [
       "7035"
      ],
      "text/markdown": [
       "7035"
      ],
      "text/plain": [
       "[1] 7035"
      ]
     },
     "metadata": {},
     "output_type": "display_data"
    }
   ],
   "source": [
    "d[21]"
   ]
  },
  {
   "cell_type": "code",
   "execution_count": 11,
   "metadata": {
    "collapsed": false
   },
   "outputs": [
    {
     "data": {
      "text/html": [
       "<ol class=list-inline>\n",
       "\t<li>435</li>\n",
       "\t<li>860</li>\n",
       "\t<li>1275</li>\n",
       "\t<li>1680</li>\n",
       "</ol>\n"
      ],
      "text/latex": [
       "\\begin{enumerate*}\n",
       "\\item 435\n",
       "\\item 860\n",
       "\\item 1275\n",
       "\\item 1680\n",
       "\\end{enumerate*}\n"
      ],
      "text/markdown": [
       "1. 435\n",
       "2. 860\n",
       "3. 1275\n",
       "4. 1680\n",
       "\n",
       "\n"
      ],
      "text/plain": [
       "[1]  435  860 1275 1680"
      ]
     },
     "metadata": {},
     "output_type": "display_data"
    }
   ],
   "source": [
    "# What are all of the elements of d which are less than 2000?\n",
    "d[d < 2000] # you will see the values"
   ]
  },
  {
   "cell_type": "code",
   "execution_count": 12,
   "metadata": {
    "collapsed": false
   },
   "outputs": [
    {
     "data": {
      "text/html": [
       "<ol class=list-inline>\n",
       "\t<li>TRUE</li>\n",
       "\t<li>TRUE</li>\n",
       "\t<li>TRUE</li>\n",
       "\t<li>TRUE</li>\n",
       "\t<li>FALSE</li>\n",
       "\t<li>FALSE</li>\n",
       "\t<li>FALSE</li>\n",
       "\t<li>FALSE</li>\n",
       "\t<li>FALSE</li>\n",
       "\t<li>FALSE</li>\n",
       "\t<li>FALSE</li>\n",
       "\t<li>FALSE</li>\n",
       "\t<li>FALSE</li>\n",
       "\t<li>FALSE</li>\n",
       "\t<li>FALSE</li>\n",
       "\t<li>FALSE</li>\n",
       "\t<li>FALSE</li>\n",
       "\t<li>FALSE</li>\n",
       "\t<li>FALSE</li>\n",
       "\t<li>FALSE</li>\n",
       "\t<li>FALSE</li>\n",
       "\t<li>FALSE</li>\n",
       "\t<li>FALSE</li>\n",
       "\t<li>FALSE</li>\n",
       "\t<li>FALSE</li>\n",
       "\t<li>FALSE</li>\n",
       "\t<li>FALSE</li>\n",
       "\t<li>FALSE</li>\n",
       "\t<li>FALSE</li>\n",
       "\t<li>FALSE</li>\n",
       "\t<li>FALSE</li>\n",
       "\t<li>FALSE</li>\n",
       "</ol>\n"
      ],
      "text/latex": [
       "\\begin{enumerate*}\n",
       "\\item TRUE\n",
       "\\item TRUE\n",
       "\\item TRUE\n",
       "\\item TRUE\n",
       "\\item FALSE\n",
       "\\item FALSE\n",
       "\\item FALSE\n",
       "\\item FALSE\n",
       "\\item FALSE\n",
       "\\item FALSE\n",
       "\\item FALSE\n",
       "\\item FALSE\n",
       "\\item FALSE\n",
       "\\item FALSE\n",
       "\\item FALSE\n",
       "\\item FALSE\n",
       "\\item FALSE\n",
       "\\item FALSE\n",
       "\\item FALSE\n",
       "\\item FALSE\n",
       "\\item FALSE\n",
       "\\item FALSE\n",
       "\\item FALSE\n",
       "\\item FALSE\n",
       "\\item FALSE\n",
       "\\item FALSE\n",
       "\\item FALSE\n",
       "\\item FALSE\n",
       "\\item FALSE\n",
       "\\item FALSE\n",
       "\\item FALSE\n",
       "\\item FALSE\n",
       "\\end{enumerate*}\n"
      ],
      "text/markdown": [
       "1. TRUE\n",
       "2. TRUE\n",
       "3. TRUE\n",
       "4. TRUE\n",
       "5. FALSE\n",
       "6. FALSE\n",
       "7. FALSE\n",
       "8. FALSE\n",
       "9. FALSE\n",
       "10. FALSE\n",
       "11. FALSE\n",
       "12. FALSE\n",
       "13. FALSE\n",
       "14. FALSE\n",
       "15. FALSE\n",
       "16. FALSE\n",
       "17. FALSE\n",
       "18. FALSE\n",
       "19. FALSE\n",
       "20. FALSE\n",
       "21. FALSE\n",
       "22. FALSE\n",
       "23. FALSE\n",
       "24. FALSE\n",
       "25. FALSE\n",
       "26. FALSE\n",
       "27. FALSE\n",
       "28. FALSE\n",
       "29. FALSE\n",
       "30. FALSE\n",
       "31. FALSE\n",
       "32. FALSE\n",
       "\n",
       "\n"
      ],
      "text/plain": [
       " [1]  TRUE  TRUE  TRUE  TRUE FALSE FALSE FALSE FALSE FALSE FALSE FALSE FALSE\n",
       "[13] FALSE FALSE FALSE FALSE FALSE FALSE FALSE FALSE FALSE FALSE FALSE FALSE\n",
       "[25] FALSE FALSE FALSE FALSE FALSE FALSE FALSE FALSE"
      ]
     },
     "metadata": {},
     "output_type": "display_data"
    }
   ],
   "source": [
    "d < 2000 # in bolean form"
   ]
  },
  {
   "cell_type": "code",
   "execution_count": 13,
   "metadata": {
    "collapsed": false
   },
   "outputs": [
    {
     "name": "stdout",
     "output_type": "stream",
     "text": [
      " [1] FALSE FALSE FALSE FALSE FALSE FALSE FALSE FALSE FALSE FALSE FALSE FALSE\n",
      "[13] FALSE FALSE FALSE FALSE  TRUE  TRUE  TRUE  TRUE  TRUE  TRUE  TRUE  TRUE\n",
      "[25]  TRUE  TRUE  TRUE  TRUE  TRUE  TRUE  TRUE  TRUE\n"
     ]
    },
    {
     "data": {
      "text/plain": [
       "x\n",
       "FALSE  TRUE \n",
       "   16    16 "
      ]
     },
     "metadata": {},
     "output_type": "display_data"
    }
   ],
   "source": [
    "# How many elements of d are greater than 6000?\n",
    "x <- d > 6000\n",
    "print(x)\n",
    "table(x)\n",
    "\n",
    "# so we have 16 True values. that means 16 values are greater than 6000"
   ]
  },
  {
   "cell_type": "markdown",
   "metadata": {},
   "source": [
    "# Using d from problem 2, use R to compute the following statistics of d:"
   ]
  },
  {
   "cell_type": "code",
   "execution_count": 14,
   "metadata": {
    "collapsed": false
   },
   "outputs": [
    {
     "data": {
      "text/html": [
       "175120"
      ],
      "text/latex": [
       "175120"
      ],
      "text/markdown": [
       "175120"
      ],
      "text/plain": [
       "[1] 175120"
      ]
     },
     "metadata": {},
     "output_type": "display_data"
    }
   ],
   "source": [
    "# sum of the d\n",
    "sum1 = sum(d)\n",
    "sum1"
   ]
  },
  {
   "cell_type": "code",
   "execution_count": 15,
   "metadata": {
    "collapsed": false
   },
   "outputs": [
    {
     "data": {
      "text/html": [
       "5897.5"
      ],
      "text/latex": [
       "5897.5"
      ],
      "text/markdown": [
       "5897.5"
      ],
      "text/plain": [
       "[1] 5897.5"
      ]
     },
     "metadata": {},
     "output_type": "display_data"
    }
   ],
   "source": [
    "# Median of d\n",
    "median1= median(d)\n",
    "median1"
   ]
  },
  {
   "cell_type": "code",
   "execution_count": 16,
   "metadata": {
    "collapsed": false
   },
   "outputs": [
    {
     "data": {
      "text/html": [
       "2608.56282270525"
      ],
      "text/latex": [
       "2608.56282270525"
      ],
      "text/markdown": [
       "2608.56282270525"
      ],
      "text/plain": [
       "[1] 2608.563"
      ]
     },
     "metadata": {},
     "output_type": "display_data"
    }
   ],
   "source": [
    "sd1= sd(d)\n",
    "sd1"
   ]
  },
  {
   "cell_type": "markdown",
   "metadata": {},
   "source": [
    "# Problem 4: Use R to create the following matrix.Then write an R command to change the value in the 1st row and 4th column to be 18.    \n"
   ]
  },
  {
   "cell_type": "code",
   "execution_count": 17,
   "metadata": {
    "collapsed": false
   },
   "outputs": [
    {
     "data": {
      "text/html": [
       "<table>\n",
       "<tbody>\n",
       "\t<tr><td>1 </td><td>7 </td><td>12</td><td>19</td></tr>\n",
       "\t<tr><td>2 </td><td>8 </td><td>13</td><td>20</td></tr>\n",
       "\t<tr><td>3 </td><td>9 </td><td>14</td><td>21</td></tr>\n",
       "</tbody>\n",
       "</table>\n"
      ],
      "text/latex": [
       "\\begin{tabular}{llll}\n",
       "\t 1  & 7  & 12 & 19\\\\\n",
       "\t 2  & 8  & 13 & 20\\\\\n",
       "\t 3  & 9  & 14 & 21\\\\\n",
       "\\end{tabular}\n"
      ],
      "text/markdown": [
       "\n",
       "| 1  | 7  | 12 | 19 | \n",
       "| 2  | 8  | 13 | 20 | \n",
       "| 3  | 9  | 14 | 21 | \n",
       "\n",
       "\n"
      ],
      "text/plain": [
       "     [,1] [,2] [,3] [,4]\n",
       "[1,] 1    7    12   19  \n",
       "[2,] 2    8    13   20  \n",
       "[3,] 3    9    14   21  "
      ]
     },
     "metadata": {},
     "output_type": "display_data"
    }
   ],
   "source": [
    "z = cbind(c(1,2,3), c(7,8,9), c(12,13,14), c(19,20,21))\n",
    "z"
   ]
  },
  {
   "cell_type": "code",
   "execution_count": 18,
   "metadata": {
    "collapsed": false
   },
   "outputs": [
    {
     "data": {
      "text/html": [
       "'matrix'"
      ],
      "text/latex": [
       "'matrix'"
      ],
      "text/markdown": [
       "'matrix'"
      ],
      "text/plain": [
       "[1] \"matrix\""
      ]
     },
     "metadata": {},
     "output_type": "display_data"
    }
   ],
   "source": [
    "# you can see the class of z\n",
    "class(z)"
   ]
  },
  {
   "cell_type": "code",
   "execution_count": 19,
   "metadata": {
    "collapsed": false
   },
   "outputs": [
    {
     "data": {
      "text/html": [
       "<table>\n",
       "<tbody>\n",
       "\t<tr><td>1 </td><td>7 </td><td>12</td><td>18</td></tr>\n",
       "\t<tr><td>2 </td><td>8 </td><td>13</td><td>20</td></tr>\n",
       "\t<tr><td>3 </td><td>9 </td><td>14</td><td>21</td></tr>\n",
       "</tbody>\n",
       "</table>\n"
      ],
      "text/latex": [
       "\\begin{tabular}{llll}\n",
       "\t 1  & 7  & 12 & 18\\\\\n",
       "\t 2  & 8  & 13 & 20\\\\\n",
       "\t 3  & 9  & 14 & 21\\\\\n",
       "\\end{tabular}\n"
      ],
      "text/markdown": [
       "\n",
       "| 1  | 7  | 12 | 18 | \n",
       "| 2  | 8  | 13 | 20 | \n",
       "| 3  | 9  | 14 | 21 | \n",
       "\n",
       "\n"
      ],
      "text/plain": [
       "     [,1] [,2] [,3] [,4]\n",
       "[1,] 1    7    12   18  \n",
       "[2,] 2    8    13   20  \n",
       "[3,] 3    9    14   21  "
      ]
     },
     "metadata": {},
     "output_type": "display_data"
    }
   ],
   "source": [
    "# Now we have change the element of 1 row and 4th column\n",
    "z[1,4] <- 18 \n",
    "z"
   ]
  }
 ],
 "metadata": {
  "anaconda-cloud": {},
  "kernelspec": {
   "display_name": "R",
   "language": "R",
   "name": "ir"
  },
  "language_info": {
   "codemirror_mode": "r",
   "file_extension": ".r",
   "mimetype": "text/x-r-source",
   "name": "R",
   "pygments_lexer": "r",
   "version": "3.4.1"
  }
 },
 "nbformat": 4,
 "nbformat_minor": 0
}
